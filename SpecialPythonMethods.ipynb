{
 "cells": [
  {
   "cell_type": "code",
   "execution_count": 1,
   "id": "d0b284b7",
   "metadata": {},
   "outputs": [],
   "source": [
    "class Software():\n",
    "    \n",
    "    def __init__(self,usage,language,versions):\n",
    "        \n",
    "        self.usage = usage\n",
    "        self.language = language\n",
    "        self.versions = versions\n",
    "        \n",
    "    def __str__(self):\n",
    "        return f\"Software will be used for {self.usage}, it will be in {self.language}, and will have {self.versions} versions.\"\n",
    "    \n",
    "    def __del__(self):\n",
    "        print(\"A version of the software has been removed.\")\n",
    "    \n",
    "    def __len__(self):\n",
    "        return self.versions"
   ]
  },
  {
   "cell_type": "code",
   "execution_count": 2,
   "id": "94483bc3",
   "metadata": {},
   "outputs": [],
   "source": [
    "mysoftware = Software('business automation','english', 4)"
   ]
  },
  {
   "cell_type": "code",
   "execution_count": 3,
   "id": "dcbf3d32",
   "metadata": {},
   "outputs": [
    {
     "name": "stdout",
     "output_type": "stream",
     "text": [
      "Software will be used for business automation, it will be in english, and will have 4 versions.\n"
     ]
    }
   ],
   "source": [
    "print(mysoftware)"
   ]
  },
  {
   "cell_type": "code",
   "execution_count": 4,
   "id": "b6665bb8",
   "metadata": {},
   "outputs": [
    {
     "data": {
      "text/plain": [
       "'Software will be used for business automation, it will be in english, and will have 4 versions.'"
      ]
     },
     "execution_count": 4,
     "metadata": {},
     "output_type": "execute_result"
    }
   ],
   "source": [
    "str(mysoftware)"
   ]
  },
  {
   "cell_type": "code",
   "execution_count": 5,
   "id": "11389c45",
   "metadata": {},
   "outputs": [],
   "source": [
    "# del(mysoftware)"
   ]
  },
  {
   "cell_type": "code",
   "execution_count": 6,
   "id": "71a888ed",
   "metadata": {},
   "outputs": [
    {
     "data": {
      "text/plain": [
       "4"
      ]
     },
     "execution_count": 6,
     "metadata": {},
     "output_type": "execute_result"
    }
   ],
   "source": [
    "len(mysoftware)"
   ]
  }
 ],
 "metadata": {
  "kernelspec": {
   "display_name": "Python 3",
   "language": "python",
   "name": "python3"
  },
  "language_info": {
   "codemirror_mode": {
    "name": "ipython",
    "version": 3
   },
   "file_extension": ".py",
   "mimetype": "text/x-python",
   "name": "python",
   "nbconvert_exporter": "python",
   "pygments_lexer": "ipython3",
   "version": "3.8.8"
  }
 },
 "nbformat": 4,
 "nbformat_minor": 5
}
