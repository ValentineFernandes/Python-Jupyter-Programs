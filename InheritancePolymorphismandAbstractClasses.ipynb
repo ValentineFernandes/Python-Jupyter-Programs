{
 "cells": [
  {
   "cell_type": "code",
   "execution_count": 1,
   "id": "72b0fb9f",
   "metadata": {},
   "outputs": [],
   "source": [
    "class Machine():\n",
    "    \n",
    "    def __init__(self):\n",
    "        print(\"Machine started!\")\n",
    "        \n",
    "    def machine_type(self):\n",
    "        print(\"Machine type is vehicle.\")\n",
    "        \n",
    "    def drive(self):\n",
    "        print(\"Driving the machine...\")"
   ]
  },
  {
   "cell_type": "code",
   "execution_count": 2,
   "id": "e8c64973",
   "metadata": {},
   "outputs": [
    {
     "name": "stdout",
     "output_type": "stream",
     "text": [
      "Machine started!\n"
     ]
    }
   ],
   "source": [
    "machine1 = Machine()"
   ]
  },
  {
   "cell_type": "code",
   "execution_count": 3,
   "id": "a03fd253",
   "metadata": {},
   "outputs": [
    {
     "name": "stdout",
     "output_type": "stream",
     "text": [
      "Driving the machine...\n"
     ]
    }
   ],
   "source": [
    "machine1.drive()"
   ]
  },
  {
   "cell_type": "code",
   "execution_count": 4,
   "id": "a0e37d7c",
   "metadata": {},
   "outputs": [
    {
     "name": "stdout",
     "output_type": "stream",
     "text": [
      "Machine type is vehicle.\n"
     ]
    }
   ],
   "source": [
    "machine1.machine_type()"
   ]
  },
  {
   "cell_type": "code",
   "execution_count": 5,
   "id": "547ce5a7",
   "metadata": {},
   "outputs": [],
   "source": [
    "class Truck(Machine):\n",
    "    \n",
    "    def __init__(self):\n",
    "        Machine.__init__(self)\n",
    "        print(\"This is a truck!\")\n",
    "        \n",
    "    def drive(self):\n",
    "        print(\"Driving the truck...\")\n",
    "        \n",
    "    def load(self):\n",
    "        print(\"Loading the truck...\")"
   ]
  },
  {
   "cell_type": "code",
   "execution_count": 6,
   "id": "7c08b754",
   "metadata": {},
   "outputs": [
    {
     "name": "stdout",
     "output_type": "stream",
     "text": [
      "Machine started!\n",
      "This is a truck!\n"
     ]
    }
   ],
   "source": [
    "truck1 = Truck()"
   ]
  },
  {
   "cell_type": "code",
   "execution_count": 7,
   "id": "77339a7c",
   "metadata": {},
   "outputs": [
    {
     "name": "stdout",
     "output_type": "stream",
     "text": [
      "Driving the truck...\n"
     ]
    }
   ],
   "source": [
    "truck1.drive()"
   ]
  },
  {
   "cell_type": "code",
   "execution_count": 8,
   "id": "c2d50563",
   "metadata": {},
   "outputs": [
    {
     "name": "stdout",
     "output_type": "stream",
     "text": [
      "Loading the truck...\n"
     ]
    }
   ],
   "source": [
    "truck1.load()"
   ]
  },
  {
   "cell_type": "code",
   "execution_count": 9,
   "id": "760db026",
   "metadata": {},
   "outputs": [],
   "source": [
    "class Car():\n",
    "    \n",
    "    def __init__(self,brand):\n",
    "        self.brand = brand\n",
    "        \n",
    "    def drive(self):\n",
    "        return 'I drive a ' + self.brand + ' car.'"
   ]
  },
  {
   "cell_type": "code",
   "execution_count": 10,
   "id": "6a16eae8",
   "metadata": {},
   "outputs": [],
   "source": [
    "class Truck():\n",
    "    \n",
    "    def __init__(self,brand):\n",
    "        self.brand = brand\n",
    "        \n",
    "    def drive(self):\n",
    "        return 'I drive a ' + self.brand + ' truck.'"
   ]
  },
  {
   "cell_type": "code",
   "execution_count": 11,
   "id": "4546bcf7",
   "metadata": {},
   "outputs": [],
   "source": [
    "volvo = Car('Volvo')\n",
    "ford = Truck('Ford')"
   ]
  },
  {
   "cell_type": "code",
   "execution_count": 12,
   "id": "68698dde",
   "metadata": {},
   "outputs": [
    {
     "name": "stdout",
     "output_type": "stream",
     "text": [
      "I drive a Ford truck.\n"
     ]
    }
   ],
   "source": [
    "print(ford.drive())"
   ]
  },
  {
   "cell_type": "code",
   "execution_count": 13,
   "id": "4f4763bd",
   "metadata": {},
   "outputs": [
    {
     "name": "stdout",
     "output_type": "stream",
     "text": [
      "I drive a Volvo car.\n"
     ]
    }
   ],
   "source": [
    "print(volvo.drive())"
   ]
  },
  {
   "cell_type": "code",
   "execution_count": 14,
   "id": "e2f845ae",
   "metadata": {},
   "outputs": [
    {
     "name": "stdout",
     "output_type": "stream",
     "text": [
      "<class '__main__.Car'>\n",
      "I drive a Volvo car.\n",
      "<class '__main__.Truck'>\n",
      "I drive a Ford truck.\n"
     ]
    }
   ],
   "source": [
    "for vehicle in [volvo, ford]:\n",
    "    print(type(vehicle))\n",
    "    print(vehicle.drive())"
   ]
  },
  {
   "cell_type": "code",
   "execution_count": 15,
   "id": "7fc78f39",
   "metadata": {},
   "outputs": [],
   "source": [
    "def vehicle_drive(vehicle):\n",
    "    print(vehicle.drive())"
   ]
  },
  {
   "cell_type": "code",
   "execution_count": 16,
   "id": "cef94bb0",
   "metadata": {},
   "outputs": [
    {
     "name": "stdout",
     "output_type": "stream",
     "text": [
      "I drive a Volvo car.\n"
     ]
    }
   ],
   "source": [
    "vehicle_drive(volvo)"
   ]
  },
  {
   "cell_type": "code",
   "execution_count": 17,
   "id": "2ce55572",
   "metadata": {},
   "outputs": [
    {
     "name": "stdout",
     "output_type": "stream",
     "text": [
      "I drive a Ford truck.\n"
     ]
    }
   ],
   "source": [
    "vehicle_drive(ford)"
   ]
  },
  {
   "cell_type": "code",
   "execution_count": 18,
   "id": "b7b8da68",
   "metadata": {},
   "outputs": [],
   "source": [
    "class Machine():\n",
    "    \n",
    "    def __init__(self,brand):\n",
    "        self.brand = brand\n",
    "        \n",
    "    def drive(self):\n",
    "        raise NotImplementedError('Implement this method in a subclass.')"
   ]
  },
  {
   "cell_type": "code",
   "execution_count": 19,
   "id": "a07a015c",
   "metadata": {},
   "outputs": [],
   "source": [
    "class Car(Machine):\n",
    "    \n",
    "    def drive(self):\n",
    "        print('I drive a ' + self.brand + ' car.')"
   ]
  },
  {
   "cell_type": "code",
   "execution_count": 20,
   "id": "00d75b38",
   "metadata": {},
   "outputs": [],
   "source": [
    "class Truck(Machine):\n",
    "    \n",
    "    def drive(self):\n",
    "        print('I drive a ' + self.brand + ' truck.')"
   ]
  },
  {
   "cell_type": "code",
   "execution_count": 21,
   "id": "4bb8b47f",
   "metadata": {},
   "outputs": [],
   "source": [
    "daimler = Car('Daimler')"
   ]
  },
  {
   "cell_type": "code",
   "execution_count": 22,
   "id": "35a7e045",
   "metadata": {},
   "outputs": [],
   "source": [
    "chevrolet = Truck('Chevrolet')"
   ]
  },
  {
   "cell_type": "code",
   "execution_count": 23,
   "id": "9ee0ec92",
   "metadata": {},
   "outputs": [
    {
     "name": "stdout",
     "output_type": "stream",
     "text": [
      "I drive a Daimler car.\n",
      "None\n"
     ]
    }
   ],
   "source": [
    "print(daimler.drive())"
   ]
  },
  {
   "cell_type": "code",
   "execution_count": 24,
   "id": "60a0eda4",
   "metadata": {},
   "outputs": [
    {
     "name": "stdout",
     "output_type": "stream",
     "text": [
      "I drive a Chevrolet truck.\n",
      "None\n"
     ]
    }
   ],
   "source": [
    "print(chevrolet.drive())"
   ]
  }
 ],
 "metadata": {
  "kernelspec": {
   "display_name": "Python 3",
   "language": "python",
   "name": "python3"
  },
  "language_info": {
   "codemirror_mode": {
    "name": "ipython",
    "version": 3
   },
   "file_extension": ".py",
   "mimetype": "text/x-python",
   "name": "python",
   "nbconvert_exporter": "python",
   "pygments_lexer": "ipython3",
   "version": "3.8.8"
  }
 },
 "nbformat": 4,
 "nbformat_minor": 5
}
