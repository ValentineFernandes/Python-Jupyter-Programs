{
 "cells": [
  {
   "cell_type": "code",
   "execution_count": 1,
   "id": "8b2f27c0",
   "metadata": {},
   "outputs": [],
   "source": [
    "birthplace = \"Chicago\""
   ]
  },
  {
   "cell_type": "code",
   "execution_count": 2,
   "id": "dc569fb3",
   "metadata": {},
   "outputs": [
    {
     "data": {
      "text/plain": [
       "'I was born in Chicago'"
      ]
     },
     "execution_count": 2,
     "metadata": {},
     "output_type": "execute_result"
    }
   ],
   "source": [
    "\"I was born in \" + birthplace"
   ]
  },
  {
   "cell_type": "code",
   "execution_count": 3,
   "id": "b0d1fbd1",
   "metadata": {},
   "outputs": [],
   "source": [
    "string1 = \"Hi \""
   ]
  },
  {
   "cell_type": "code",
   "execution_count": 4,
   "id": "9fffd9c6",
   "metadata": {},
   "outputs": [],
   "source": [
    "string2 = \"there!\""
   ]
  },
  {
   "cell_type": "code",
   "execution_count": 5,
   "id": "914134be",
   "metadata": {},
   "outputs": [
    {
     "data": {
      "text/plain": [
       "'Hi there!'"
      ]
     },
     "execution_count": 5,
     "metadata": {},
     "output_type": "execute_result"
    }
   ],
   "source": [
    "string1 + string2"
   ]
  },
  {
   "cell_type": "code",
   "execution_count": 6,
   "id": "b278bfa1",
   "metadata": {},
   "outputs": [],
   "source": [
    "example = \"no\""
   ]
  },
  {
   "cell_type": "code",
   "execution_count": 7,
   "id": "4a777008",
   "metadata": {},
   "outputs": [
    {
     "data": {
      "text/plain": [
       "'nonononono'"
      ]
     },
     "execution_count": 7,
     "metadata": {},
     "output_type": "execute_result"
    }
   ],
   "source": [
    "example * 5"
   ]
  },
  {
   "cell_type": "code",
   "execution_count": 8,
   "id": "a2870544",
   "metadata": {},
   "outputs": [
    {
     "data": {
      "text/plain": [
       "'11'"
      ]
     },
     "execution_count": 8,
     "metadata": {},
     "output_type": "execute_result"
    }
   ],
   "source": [
    "\"1\" + \"1\""
   ]
  },
  {
   "cell_type": "code",
   "execution_count": 9,
   "id": "9915e8ba",
   "metadata": {},
   "outputs": [],
   "source": [
    "a = \"Hey everyone\""
   ]
  },
  {
   "cell_type": "code",
   "execution_count": 10,
   "id": "fe9a441d",
   "metadata": {},
   "outputs": [
    {
     "data": {
      "text/plain": [
       "'HEY EVERYONE'"
      ]
     },
     "execution_count": 10,
     "metadata": {},
     "output_type": "execute_result"
    }
   ],
   "source": [
    "a.upper()"
   ]
  },
  {
   "cell_type": "code",
   "execution_count": 11,
   "id": "11a191e8",
   "metadata": {},
   "outputs": [
    {
     "data": {
      "text/plain": [
       "'Hey everyone'"
      ]
     },
     "execution_count": 11,
     "metadata": {},
     "output_type": "execute_result"
    }
   ],
   "source": [
    "a"
   ]
  },
  {
   "cell_type": "code",
   "execution_count": 12,
   "id": "1851686c",
   "metadata": {},
   "outputs": [],
   "source": [
    "a = a.upper()"
   ]
  },
  {
   "cell_type": "code",
   "execution_count": 13,
   "id": "6d32c110",
   "metadata": {},
   "outputs": [
    {
     "data": {
      "text/plain": [
       "'HEY EVERYONE'"
      ]
     },
     "execution_count": 13,
     "metadata": {},
     "output_type": "execute_result"
    }
   ],
   "source": [
    "a"
   ]
  },
  {
   "cell_type": "code",
   "execution_count": 14,
   "id": "8694903b",
   "metadata": {},
   "outputs": [],
   "source": [
    "a = a.lower()"
   ]
  },
  {
   "cell_type": "code",
   "execution_count": 15,
   "id": "0b26ac2b",
   "metadata": {},
   "outputs": [
    {
     "data": {
      "text/plain": [
       "'hey everyone'"
      ]
     },
     "execution_count": 15,
     "metadata": {},
     "output_type": "execute_result"
    }
   ],
   "source": [
    "a"
   ]
  },
  {
   "cell_type": "code",
   "execution_count": 16,
   "id": "833f6cd0",
   "metadata": {},
   "outputs": [
    {
     "data": {
      "text/plain": [
       "['hey', 'everyone']"
      ]
     },
     "execution_count": 16,
     "metadata": {},
     "output_type": "execute_result"
    }
   ],
   "source": [
    "a.split()"
   ]
  },
  {
   "cell_type": "code",
   "execution_count": 17,
   "id": "cb3d9fa3",
   "metadata": {},
   "outputs": [],
   "source": [
    "name='John'\n",
    "place='Virginia'"
   ]
  },
  {
   "cell_type": "code",
   "execution_count": 18,
   "id": "61572d6e",
   "metadata": {},
   "outputs": [
    {
     "name": "stdout",
     "output_type": "stream",
     "text": [
      "My name is John and I was born in Virginia.\n"
     ]
    }
   ],
   "source": [
    "print(f'My name is {name} and I was born in {place}.')"
   ]
  }
 ],
 "metadata": {
  "kernelspec": {
   "display_name": "Python 3",
   "language": "python",
   "name": "python3"
  },
  "language_info": {
   "codemirror_mode": {
    "name": "ipython",
    "version": 3
   },
   "file_extension": ".py",
   "mimetype": "text/x-python",
   "name": "python",
   "nbconvert_exporter": "python",
   "pygments_lexer": "ipython3",
   "version": "3.8.8"
  }
 },
 "nbformat": 4,
 "nbformat_minor": 5
}
