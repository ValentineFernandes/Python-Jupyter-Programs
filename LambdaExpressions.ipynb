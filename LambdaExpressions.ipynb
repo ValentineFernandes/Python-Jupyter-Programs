{
 "cells": [
  {
   "cell_type": "code",
   "execution_count": 1,
   "id": "982b9dd3",
   "metadata": {},
   "outputs": [],
   "source": [
    "def discount(value):\n",
    "    return value-(value*0.30)"
   ]
  },
  {
   "cell_type": "code",
   "execution_count": 4,
   "id": "2a8ed740",
   "metadata": {},
   "outputs": [
    {
     "data": {
      "text/plain": [
       "7.0"
      ]
     },
     "execution_count": 4,
     "metadata": {},
     "output_type": "execute_result"
    }
   ],
   "source": [
    "discount(10)"
   ]
  },
  {
   "cell_type": "code",
   "execution_count": 5,
   "id": "d2b8eefb",
   "metadata": {},
   "outputs": [],
   "source": [
    "discount = lambda value:value-(value*0.30)"
   ]
  },
  {
   "cell_type": "code",
   "execution_count": 7,
   "id": "919366d9",
   "metadata": {},
   "outputs": [
    {
     "data": {
      "text/plain": [
       "70.0"
      ]
     },
     "execution_count": 7,
     "metadata": {},
     "output_type": "execute_result"
    }
   ],
   "source": [
    "discount(100)"
   ]
  },
  {
   "cell_type": "code",
   "execution_count": 15,
   "id": "2c5a8414",
   "metadata": {},
   "outputs": [],
   "source": [
    "numbers = [10,23,40,57,60,100]"
   ]
  },
  {
   "cell_type": "code",
   "execution_count": 16,
   "id": "e0bae82a",
   "metadata": {},
   "outputs": [
    {
     "data": {
      "text/plain": [
       "[7.0, 16.1, 28.0, 39.900000000000006, 42.0, 70.0]"
      ]
     },
     "execution_count": 16,
     "metadata": {},
     "output_type": "execute_result"
    }
   ],
   "source": [
    "list(map(lambda value:value-(value*0.30), numbers))"
   ]
  },
  {
   "cell_type": "code",
   "execution_count": 19,
   "id": "da133ead",
   "metadata": {},
   "outputs": [],
   "source": [
    "def even_numbers(number):\n",
    "    return number%2==0"
   ]
  },
  {
   "cell_type": "code",
   "execution_count": 21,
   "id": "6d268a51",
   "metadata": {},
   "outputs": [
    {
     "name": "stdout",
     "output_type": "stream",
     "text": [
      "10\n",
      "40\n",
      "60\n",
      "100\n"
     ]
    }
   ],
   "source": [
    "for x in filter(lambda number:number%2==0, numbers):\n",
    "    print (x)"
   ]
  },
  {
   "cell_type": "code",
   "execution_count": 22,
   "id": "4cc13d97",
   "metadata": {},
   "outputs": [
    {
     "data": {
      "text/plain": [
       "[10, 40, 60, 100]"
      ]
     },
     "execution_count": 22,
     "metadata": {},
     "output_type": "execute_result"
    }
   ],
   "source": [
    "list(filter(lambda number:number%2==0, numbers))"
   ]
  }
 ],
 "metadata": {
  "kernelspec": {
   "display_name": "Python 3",
   "language": "python",
   "name": "python3"
  },
  "language_info": {
   "codemirror_mode": {
    "name": "ipython",
    "version": 3
   },
   "file_extension": ".py",
   "mimetype": "text/x-python",
   "name": "python",
   "nbconvert_exporter": "python",
   "pygments_lexer": "ipython3",
   "version": "3.8.8"
  }
 },
 "nbformat": 4,
 "nbformat_minor": 5
}
