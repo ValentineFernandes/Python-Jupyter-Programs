{
 "cells": [
  {
   "cell_type": "code",
   "execution_count": 1,
   "id": "26c81a4c",
   "metadata": {},
   "outputs": [],
   "source": [
    "set_example = set()"
   ]
  },
  {
   "cell_type": "code",
   "execution_count": 3,
   "id": "069cc67e",
   "metadata": {},
   "outputs": [],
   "source": [
    "set_example.add(10)"
   ]
  },
  {
   "cell_type": "code",
   "execution_count": 4,
   "id": "18a1a76a",
   "metadata": {},
   "outputs": [
    {
     "data": {
      "text/plain": [
       "{10}"
      ]
     },
     "execution_count": 4,
     "metadata": {},
     "output_type": "execute_result"
    }
   ],
   "source": [
    "set_example"
   ]
  },
  {
   "cell_type": "code",
   "execution_count": 5,
   "id": "b4f69064",
   "metadata": {},
   "outputs": [],
   "source": [
    "set_example.add(20)"
   ]
  },
  {
   "cell_type": "code",
   "execution_count": 6,
   "id": "2086b4d3",
   "metadata": {},
   "outputs": [
    {
     "data": {
      "text/plain": [
       "{10, 20}"
      ]
     },
     "execution_count": 6,
     "metadata": {},
     "output_type": "execute_result"
    }
   ],
   "source": [
    "set_example"
   ]
  },
  {
   "cell_type": "code",
   "execution_count": 7,
   "id": "726a90d2",
   "metadata": {},
   "outputs": [],
   "source": [
    "set_example.add(20)"
   ]
  },
  {
   "cell_type": "code",
   "execution_count": 8,
   "id": "0789337b",
   "metadata": {},
   "outputs": [
    {
     "data": {
      "text/plain": [
       "{10, 20}"
      ]
     },
     "execution_count": 8,
     "metadata": {},
     "output_type": "execute_result"
    }
   ],
   "source": [
    "set_example"
   ]
  },
  {
   "cell_type": "code",
   "execution_count": 9,
   "id": "0e1e6bb1",
   "metadata": {},
   "outputs": [],
   "source": [
    "list_example = [10,10,10,20,20,20,50,50,50]"
   ]
  },
  {
   "cell_type": "code",
   "execution_count": 10,
   "id": "1c88971b",
   "metadata": {},
   "outputs": [
    {
     "data": {
      "text/plain": [
       "{10, 20, 50}"
      ]
     },
     "execution_count": 10,
     "metadata": {},
     "output_type": "execute_result"
    }
   ],
   "source": [
    "set(list_example)"
   ]
  }
 ],
 "metadata": {
  "kernelspec": {
   "display_name": "Python 3",
   "language": "python",
   "name": "python3"
  },
  "language_info": {
   "codemirror_mode": {
    "name": "ipython",
    "version": 3
   },
   "file_extension": ".py",
   "mimetype": "text/x-python",
   "name": "python",
   "nbconvert_exporter": "python",
   "pygments_lexer": "ipython3",
   "version": "3.8.8"
  }
 },
 "nbformat": 4,
 "nbformat_minor": 5
}
