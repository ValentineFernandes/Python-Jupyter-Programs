{
 "cells": [
  {
   "cell_type": "code",
   "execution_count": 1,
   "id": "827feb0d",
   "metadata": {},
   "outputs": [],
   "source": [
    "def percentage(value):\n",
    "    return value*0.20"
   ]
  },
  {
   "cell_type": "code",
   "execution_count": 2,
   "id": "aa654761",
   "metadata": {},
   "outputs": [],
   "source": [
    "value_list = [5,10,35,100,1000]"
   ]
  },
  {
   "cell_type": "code",
   "execution_count": 3,
   "id": "57833924",
   "metadata": {},
   "outputs": [
    {
     "name": "stdout",
     "output_type": "stream",
     "text": [
      "1.0\n",
      "2.0\n",
      "7.0\n",
      "20.0\n",
      "200.0\n"
     ]
    }
   ],
   "source": [
    "for number in map(percentage, value_list):\n",
    "    print(number)"
   ]
  },
  {
   "cell_type": "code",
   "execution_count": 4,
   "id": "56ba6901",
   "metadata": {},
   "outputs": [
    {
     "data": {
      "text/plain": [
       "[1.0, 2.0, 7.0, 20.0, 200.0]"
      ]
     },
     "execution_count": 4,
     "metadata": {},
     "output_type": "execute_result"
    }
   ],
   "source": [
    "list(map(percentage, value_list))"
   ]
  },
  {
   "cell_type": "code",
   "execution_count": 5,
   "id": "478f90d0",
   "metadata": {},
   "outputs": [],
   "source": [
    "def even_numbers(numbers):\n",
    "    if numbers%2==0:\n",
    "        return 'Even'\n",
    "    else:\n",
    "        return 'Odd'"
   ]
  },
  {
   "cell_type": "code",
   "execution_count": 6,
   "id": "09bfefad",
   "metadata": {},
   "outputs": [
    {
     "data": {
      "text/plain": [
       "['Odd', 'Even', 'Odd', 'Even', 'Even']"
      ]
     },
     "execution_count": 6,
     "metadata": {},
     "output_type": "execute_result"
    }
   ],
   "source": [
    "list(map(even_numbers,value_list))"
   ]
  },
  {
   "cell_type": "code",
   "execution_count": 7,
   "id": "844c1750",
   "metadata": {},
   "outputs": [],
   "source": [
    "def even_numbers(numbers):\n",
    "    return numbers%2==0"
   ]
  },
  {
   "cell_type": "code",
   "execution_count": 8,
   "id": "70f0b810",
   "metadata": {},
   "outputs": [
    {
     "data": {
      "text/plain": [
       "[10, 100, 1000]"
      ]
     },
     "execution_count": 8,
     "metadata": {},
     "output_type": "execute_result"
    }
   ],
   "source": [
    "list(filter(even_numbers,value_list))"
   ]
  }
 ],
 "metadata": {
  "kernelspec": {
   "display_name": "Python 3",
   "language": "python",
   "name": "python3"
  },
  "language_info": {
   "codemirror_mode": {
    "name": "ipython",
    "version": 3
   },
   "file_extension": ".py",
   "mimetype": "text/x-python",
   "name": "python",
   "nbconvert_exporter": "python",
   "pygments_lexer": "ipython3",
   "version": "3.8.8"
  }
 },
 "nbformat": 4,
 "nbformat_minor": 5
}
