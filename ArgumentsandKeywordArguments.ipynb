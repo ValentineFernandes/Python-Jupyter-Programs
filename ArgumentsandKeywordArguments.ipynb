{
 "cells": [
  {
   "cell_type": "code",
   "execution_count": 1,
   "id": "02e57415",
   "metadata": {},
   "outputs": [],
   "source": [
    "def find_percentage(value1, value2, value3):\n",
    "    return sum((value1, value2, value3)) * 0.20"
   ]
  },
  {
   "cell_type": "code",
   "execution_count": 2,
   "id": "bbffd930",
   "metadata": {},
   "outputs": [
    {
     "data": {
      "text/plain": [
       "20.0"
      ]
     },
     "execution_count": 2,
     "metadata": {},
     "output_type": "execute_result"
    }
   ],
   "source": [
    "find_percentage(30,50,20)"
   ]
  },
  {
   "cell_type": "code",
   "execution_count": 3,
   "id": "4a9e53b7",
   "metadata": {},
   "outputs": [],
   "source": [
    "def find_percentage(*args):\n",
    "    print(args)"
   ]
  },
  {
   "cell_type": "code",
   "execution_count": 4,
   "id": "2b1dbf03",
   "metadata": {},
   "outputs": [
    {
     "name": "stdout",
     "output_type": "stream",
     "text": [
      "(30, 56, 98, 78, 12)\n"
     ]
    }
   ],
   "source": [
    "find_percentage(30,56,98,78,12)"
   ]
  },
  {
   "cell_type": "code",
   "execution_count": 5,
   "id": "26d4b237",
   "metadata": {},
   "outputs": [],
   "source": [
    "def pets(**kwargs):\n",
    "   # print(kwargs)\n",
    "    if 'cat' in kwargs:\n",
    "        print(\"My cat's name is {}\".format(kwargs['cat']))\n",
    "    else:\n",
    "        print(\"No cat's name is found\")"
   ]
  },
  {
   "cell_type": "code",
   "execution_count": 6,
   "id": "6144adb3",
   "metadata": {},
   "outputs": [
    {
     "name": "stdout",
     "output_type": "stream",
     "text": [
      "My cat's name is Luna\n"
     ]
    }
   ],
   "source": [
    "pets(cat='Luna', dog='charlie')"
   ]
  },
  {
   "cell_type": "code",
   "execution_count": 7,
   "id": "33e0ddbc",
   "metadata": {},
   "outputs": [],
   "source": [
    "def students(*args, **kwargs):\n",
    "    print('Students need {} {}.'.format(args[1], kwargs['equipment']))"
   ]
  },
  {
   "cell_type": "code",
   "execution_count": 8,
   "id": "e8c7bda2",
   "metadata": {},
   "outputs": [
    {
     "name": "stdout",
     "output_type": "stream",
     "text": [
      "Students need 34 laptops.\n"
     ]
    }
   ],
   "source": [
    "students(53,34,46,clothes='shirts',equipment='laptops',food='pizzas' )"
   ]
  }
 ],
 "metadata": {
  "kernelspec": {
   "display_name": "Python 3",
   "language": "python",
   "name": "python3"
  },
  "language_info": {
   "codemirror_mode": {
    "name": "ipython",
    "version": 3
   },
   "file_extension": ".py",
   "mimetype": "text/x-python",
   "name": "python",
   "nbconvert_exporter": "python",
   "pygments_lexer": "ipython3",
   "version": "3.8.8"
  }
 },
 "nbformat": 4,
 "nbformat_minor": 5
}
