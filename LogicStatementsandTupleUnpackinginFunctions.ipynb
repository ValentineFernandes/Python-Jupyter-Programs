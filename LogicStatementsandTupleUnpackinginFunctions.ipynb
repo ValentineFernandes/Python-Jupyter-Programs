{
 "cells": [
  {
   "cell_type": "code",
   "execution_count": 1,
   "id": "67812b37",
   "metadata": {},
   "outputs": [],
   "source": [
    "def is_even_list(my_list):\n",
    "    \n",
    "    even_numbers=[]\n",
    "    \n",
    "    for value in my_list:\n",
    "        if value%2==0:\n",
    "            even_numbers.append(value)\n",
    "        else:\n",
    "            pass\n",
    "    return even_numbers"
   ]
  },
  {
   "cell_type": "code",
   "execution_count": 2,
   "id": "c071c52b",
   "metadata": {},
   "outputs": [
    {
     "data": {
      "text/plain": [
       "[10, 2, 8, 40, 6, 80]"
      ]
     },
     "execution_count": 2,
     "metadata": {},
     "output_type": "execute_result"
    }
   ],
   "source": [
    "is_even_list([10,1,2,8,40,5,6,7,80])"
   ]
  },
  {
   "cell_type": "markdown",
   "id": "8df9452b",
   "metadata": {},
   "source": [
    "def is_even(value):\n",
    "    return value%2==0"
   ]
  },
  {
   "cell_type": "code",
   "execution_count": 3,
   "id": "03232438",
   "metadata": {},
   "outputs": [],
   "source": [
    "def is_even(value): \n",
    "    return value%2==0"
   ]
  },
  {
   "cell_type": "code",
   "execution_count": 4,
   "id": "92546469",
   "metadata": {},
   "outputs": [
    {
     "data": {
      "text/plain": [
       "True"
      ]
     },
     "execution_count": 4,
     "metadata": {},
     "output_type": "execute_result"
    }
   ],
   "source": [
    "is_even(100)"
   ]
  },
  {
   "cell_type": "code",
   "execution_count": 5,
   "id": "58cef944",
   "metadata": {},
   "outputs": [
    {
     "data": {
      "text/plain": [
       "False"
      ]
     },
     "execution_count": 5,
     "metadata": {},
     "output_type": "execute_result"
    }
   ],
   "source": [
    "is_even(101)"
   ]
  },
  {
   "cell_type": "code",
   "execution_count": 6,
   "id": "e9569544",
   "metadata": {},
   "outputs": [],
   "source": [
    "laptops = [('Dell', 800), ('HP', 600), ('Lenovo', 700)]"
   ]
  },
  {
   "cell_type": "code",
   "execution_count": 7,
   "id": "dd8fc715",
   "metadata": {},
   "outputs": [
    {
     "name": "stdout",
     "output_type": "stream",
     "text": [
      "('Dell', 800)\n",
      "('HP', 600)\n",
      "('Lenovo', 700)\n"
     ]
    }
   ],
   "source": [
    "for item in laptops:\n",
    "    print(item)"
   ]
  },
  {
   "cell_type": "code",
   "execution_count": 8,
   "id": "e73c2713",
   "metadata": {},
   "outputs": [
    {
     "name": "stdout",
     "output_type": "stream",
     "text": [
      "640.0\n",
      "480.0\n",
      "560.0\n"
     ]
    }
   ],
   "source": [
    "for laptop, price in laptops:\n",
    "    print(price-(0.2*price))"
   ]
  },
  {
   "cell_type": "code",
   "execution_count": 9,
   "id": "2003ac12",
   "metadata": {},
   "outputs": [],
   "source": [
    "exam_points = [('Luis', 78), ('Angelica', 89), ('Ottilie', 56)]"
   ]
  },
  {
   "cell_type": "code",
   "execution_count": 10,
   "id": "4f7e6c1b",
   "metadata": {},
   "outputs": [],
   "source": [
    "def student_rank(exam_points):\n",
    "    max_points = 0\n",
    "    best_student = ''\n",
    "    \n",
    "    for student, points in exam_points:\n",
    "        if points > max_points:\n",
    "            max_points = points\n",
    "            best_student = student\n",
    "        else:\n",
    "            pass\n",
    "    \n",
    "    return(best_student, max_points)"
   ]
  },
  {
   "cell_type": "code",
   "execution_count": 11,
   "id": "455880e6",
   "metadata": {},
   "outputs": [],
   "source": [
    "best_ranked_student = student_rank(exam_points)"
   ]
  },
  {
   "cell_type": "code",
   "execution_count": 12,
   "id": "3d7657c6",
   "metadata": {},
   "outputs": [],
   "source": [
    "name, points = student_rank(exam_points)"
   ]
  },
  {
   "cell_type": "code",
   "execution_count": 13,
   "id": "00162c31",
   "metadata": {},
   "outputs": [
    {
     "data": {
      "text/plain": [
       "('Angelica', 89)"
      ]
     },
     "execution_count": 13,
     "metadata": {},
     "output_type": "execute_result"
    }
   ],
   "source": [
    "best_ranked_student"
   ]
  },
  {
   "cell_type": "code",
   "execution_count": 14,
   "id": "3ddb2c37",
   "metadata": {},
   "outputs": [
    {
     "data": {
      "text/plain": [
       "'Angelica'"
      ]
     },
     "execution_count": 14,
     "metadata": {},
     "output_type": "execute_result"
    }
   ],
   "source": [
    "name"
   ]
  },
  {
   "cell_type": "code",
   "execution_count": 15,
   "id": "a21d0b93",
   "metadata": {},
   "outputs": [
    {
     "data": {
      "text/plain": [
       "89"
      ]
     },
     "execution_count": 15,
     "metadata": {},
     "output_type": "execute_result"
    }
   ],
   "source": [
    "points"
   ]
  }
 ],
 "metadata": {
  "kernelspec": {
   "display_name": "Python 3",
   "language": "python",
   "name": "python3"
  },
  "language_info": {
   "codemirror_mode": {
    "name": "ipython",
    "version": 3
   },
   "file_extension": ".py",
   "mimetype": "text/x-python",
   "name": "python",
   "nbconvert_exporter": "python",
   "pygments_lexer": "ipython3",
   "version": "3.8.8"
  }
 },
 "nbformat": 4,
 "nbformat_minor": 5
}
