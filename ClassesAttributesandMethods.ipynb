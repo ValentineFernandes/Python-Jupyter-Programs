{
 "cells": [
  {
   "cell_type": "code",
   "execution_count": 1,
   "id": "263ef060",
   "metadata": {},
   "outputs": [],
   "source": [
    "class Car():\n",
    "    \n",
    "        # Class object attribute\n",
    "        machine = 'vehicle'\n",
    "        \n",
    "        def __init__(self,brand,color,price):\n",
    "            \n",
    "            self.brand = brand\n",
    "            self.color = color\n",
    "            self.price = price\n",
    "            \n",
    "        def drive(self, serial_number):\n",
    "            print('Driving the {} car, with serial number {}.'.format(self.brand, serial_number))"
   ]
  },
  {
   "cell_type": "code",
   "execution_count": 2,
   "id": "e28c7760",
   "metadata": {},
   "outputs": [],
   "source": [
    "new_car = Car(brand='Volvo',color='Black',price=30500.50)"
   ]
  },
  {
   "cell_type": "code",
   "execution_count": 3,
   "id": "21a36b80",
   "metadata": {},
   "outputs": [
    {
     "data": {
      "text/plain": [
       "__main__.Car"
      ]
     },
     "execution_count": 3,
     "metadata": {},
     "output_type": "execute_result"
    }
   ],
   "source": [
    "type(new_car)"
   ]
  },
  {
   "cell_type": "code",
   "execution_count": 4,
   "id": "bff302a0",
   "metadata": {},
   "outputs": [
    {
     "data": {
      "text/plain": [
       "'vehicle'"
      ]
     },
     "execution_count": 4,
     "metadata": {},
     "output_type": "execute_result"
    }
   ],
   "source": [
    "new_car.machine"
   ]
  },
  {
   "cell_type": "code",
   "execution_count": 5,
   "id": "403764d8",
   "metadata": {},
   "outputs": [
    {
     "name": "stdout",
     "output_type": "stream",
     "text": [
      "Driving the Volvo car, with serial number 706.\n"
     ]
    }
   ],
   "source": [
    "new_car.drive(706)"
   ]
  },
  {
   "cell_type": "code",
   "execution_count": 6,
   "id": "2b79acc0",
   "metadata": {},
   "outputs": [],
   "source": [
    "class BMI():\n",
    "    \n",
    "    divider = 100\n",
    "    \n",
    "    def __init__(self, weight_kg=70, height_cm=180):\n",
    "        \n",
    "        self.weight_kg = weight_kg\n",
    "        self.height_cm = height_cm\n",
    "        self.example = 2\n",
    "        \n",
    "    # Calculates the body mass index\n",
    "    def calculate_bmi(self):\n",
    "        return self.weight_kg/(self.height_cm/BMI.divider)**2"
   ]
  },
  {
   "cell_type": "code",
   "execution_count": 7,
   "id": "ee8cd876",
   "metadata": {},
   "outputs": [],
   "source": [
    "my_bmi = BMI(60,170)"
   ]
  },
  {
   "cell_type": "code",
   "execution_count": 8,
   "id": "01f73510",
   "metadata": {},
   "outputs": [
    {
     "data": {
      "text/plain": [
       "170"
      ]
     },
     "execution_count": 8,
     "metadata": {},
     "output_type": "execute_result"
    }
   ],
   "source": [
    "my_bmi.height_cm"
   ]
  },
  {
   "cell_type": "code",
   "execution_count": 9,
   "id": "9f914337",
   "metadata": {},
   "outputs": [
    {
     "data": {
      "text/plain": [
       "60"
      ]
     },
     "execution_count": 9,
     "metadata": {},
     "output_type": "execute_result"
    }
   ],
   "source": [
    "my_bmi.weight_kg"
   ]
  },
  {
   "cell_type": "code",
   "execution_count": 10,
   "id": "d98ec585",
   "metadata": {},
   "outputs": [
    {
     "data": {
      "text/plain": [
       "20.761245674740486"
      ]
     },
     "execution_count": 10,
     "metadata": {},
     "output_type": "execute_result"
    }
   ],
   "source": [
    "my_bmi.calculate_bmi()"
   ]
  },
  {
   "cell_type": "code",
   "execution_count": 11,
   "id": "bf59ea8d",
   "metadata": {},
   "outputs": [
    {
     "data": {
      "text/plain": [
       "2"
      ]
     },
     "execution_count": 11,
     "metadata": {},
     "output_type": "execute_result"
    }
   ],
   "source": [
    "my_bmi.example"
   ]
  }
 ],
 "metadata": {
  "kernelspec": {
   "display_name": "Python 3",
   "language": "python",
   "name": "python3"
  },
  "language_info": {
   "codemirror_mode": {
    "name": "ipython",
    "version": 3
   },
   "file_extension": ".py",
   "mimetype": "text/x-python",
   "name": "python",
   "nbconvert_exporter": "python",
   "pygments_lexer": "ipython3",
   "version": "3.8.8"
  }
 },
 "nbformat": 4,
 "nbformat_minor": 5
}
