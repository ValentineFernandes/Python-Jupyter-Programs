{
 "cells": [
  {
   "cell_type": "code",
   "execution_count": 1,
   "id": "24c7152d",
   "metadata": {},
   "outputs": [
    {
     "name": "stdout",
     "output_type": "stream",
     "text": [
      "CHARGE!\n"
     ]
    }
   ],
   "source": [
    "battery_low = True\n",
    "\n",
    "if battery_low:\n",
    "    print('CHARGE!')\n",
    "else: \n",
    "    print('Do not charge!')"
   ]
  },
  {
   "cell_type": "code",
   "execution_count": 2,
   "id": "23d7745f",
   "metadata": {},
   "outputs": [
    {
     "name": "stdout",
     "output_type": "stream",
     "text": [
      "Not in stock!\n"
     ]
    }
   ],
   "source": [
    "order = 'Pie'\n",
    "\n",
    "if order == 'Coffee':\n",
    "    print(\"Order a coffee!\")\n",
    "elif order == 'Hamburger':\n",
    "    print(\"Order a hamburger!\")\n",
    "elif order == 'Pizza':\n",
    "    print(\"Order a pizza!\")\n",
    "else:\n",
    "    print(\"Not in stock!\")"
   ]
  },
  {
   "cell_type": "code",
   "execution_count": 3,
   "id": "b464d725",
   "metadata": {},
   "outputs": [
    {
     "name": "stdout",
     "output_type": "stream",
     "text": [
      "Hey Luna!\n"
     ]
    }
   ],
   "source": [
    "cat = 'Luna'\n",
    "\n",
    "if cat == 'Goofy':\n",
    "    print('Hey Goofy!')\n",
    "elif cat == 'Luna':\n",
    "    print('Hey Luna!')\n",
    "elif cat == 'Jasper':\n",
    "    print('Hey Jasper!')\n",
    "else:\n",
    "    print(\"What is your cat's name?\")"
   ]
  }
 ],
 "metadata": {
  "kernelspec": {
   "display_name": "Python 3",
   "language": "python",
   "name": "python3"
  },
  "language_info": {
   "codemirror_mode": {
    "name": "ipython",
    "version": 3
   },
   "file_extension": ".py",
   "mimetype": "text/x-python",
   "name": "python",
   "nbconvert_exporter": "python",
   "pygments_lexer": "ipython3",
   "version": "3.8.8"
  }
 },
 "nbformat": 4,
 "nbformat_minor": 5
}
