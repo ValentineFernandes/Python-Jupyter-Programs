{
 "cells": [
  {
   "cell_type": "code",
   "execution_count": 3,
   "id": "51edc16f",
   "metadata": {},
   "outputs": [],
   "source": [
    "test_list = [4,6,7,8,9,3,45,6]"
   ]
  },
  {
   "cell_type": "code",
   "execution_count": 4,
   "id": "b0013923",
   "metadata": {},
   "outputs": [],
   "source": [
    "from random import shuffle"
   ]
  },
  {
   "cell_type": "code",
   "execution_count": 5,
   "id": "e447ee2c",
   "metadata": {},
   "outputs": [],
   "source": [
    "shuffled_cups = shuffle(test_list)"
   ]
  },
  {
   "cell_type": "code",
   "execution_count": 6,
   "id": "034eab15",
   "metadata": {},
   "outputs": [],
   "source": [
    "shuffled_cups"
   ]
  },
  {
   "cell_type": "code",
   "execution_count": 7,
   "id": "cc0b9391",
   "metadata": {},
   "outputs": [],
   "source": [
    "def shuffle_cups(cups):\n",
    "    shuffle(cups)\n",
    "    return cups"
   ]
  },
  {
   "cell_type": "code",
   "execution_count": 8,
   "id": "226be1c7",
   "metadata": {},
   "outputs": [],
   "source": [
    "shuffled_cups = shuffle_cups(test_list)"
   ]
  },
  {
   "cell_type": "code",
   "execution_count": 10,
   "id": "66ceb8ec",
   "metadata": {},
   "outputs": [
    {
     "data": {
      "text/plain": [
       "[6, 9, 3, 8, 45, 4, 6, 7]"
      ]
     },
     "execution_count": 10,
     "metadata": {},
     "output_type": "execute_result"
    }
   ],
   "source": [
    "test_list"
   ]
  },
  {
   "cell_type": "code",
   "execution_count": 11,
   "id": "516b2628",
   "metadata": {},
   "outputs": [],
   "source": [
    "cups = ['empty', '100$', 'empty', 'empty' ]"
   ]
  },
  {
   "cell_type": "code",
   "execution_count": 12,
   "id": "32dd769d",
   "metadata": {},
   "outputs": [
    {
     "data": {
      "text/plain": [
       "['empty', '100$', 'empty', 'empty']"
      ]
     },
     "execution_count": 12,
     "metadata": {},
     "output_type": "execute_result"
    }
   ],
   "source": [
    "shuffle_cups(cups)"
   ]
  },
  {
   "cell_type": "code",
   "execution_count": 13,
   "id": "523288db",
   "metadata": {},
   "outputs": [],
   "source": [
    "def guess_a_cup():\n",
    "    guess=''\n",
    "    \n",
    "    while guess not in ['0','1','2','3']:\n",
    "        guess = input(\"Choose cup 0, 1, 2 or 3\")\n",
    "    return int(guess)"
   ]
  },
  {
   "cell_type": "code",
   "execution_count": 14,
   "id": "c84bc81c",
   "metadata": {},
   "outputs": [
    {
     "name": "stdout",
     "output_type": "stream",
     "text": [
      "Choose cup 0, 1, 2 or 3\n",
      "Choose cup 0, 1, 2 or 3\n",
      "Choose cup 0, 1, 2 or 32\n"
     ]
    },
    {
     "data": {
      "text/plain": [
       "2"
      ]
     },
     "execution_count": 14,
     "metadata": {},
     "output_type": "execute_result"
    }
   ],
   "source": [
    "guess_a_cup()"
   ]
  },
  {
   "cell_type": "code",
   "execution_count": 15,
   "id": "affc9950",
   "metadata": {},
   "outputs": [],
   "source": [
    "def check_cup(cups, guess):\n",
    "    if cups[guess] == '100$':\n",
    "        print(\"You got 100$!\")\n",
    "    else:\n",
    "        print(\"The cup is empty!\")\n",
    "        print(cups)"
   ]
  },
  {
   "cell_type": "code",
   "execution_count": 18,
   "id": "6d2f54d0",
   "metadata": {},
   "outputs": [
    {
     "name": "stdout",
     "output_type": "stream",
     "text": [
      "Choose cup 0, 1, 2 or 32\n",
      "The cup is empty!\n",
      "['empty', 'empty', 'empty', '100$']\n"
     ]
    }
   ],
   "source": [
    "# Start the game\n",
    "cups = ['empty','empty','100$','empty']\n",
    "# Shuffle cups\n",
    "start_shuffling = shuffle_cups(cups)\n",
    "# Guess a cup\n",
    "guess = guess_a_cup()\n",
    "# Check the cup\n",
    "check_cup(start_shuffling, guess)"
   ]
  }
 ],
 "metadata": {
  "kernelspec": {
   "display_name": "Python 3",
   "language": "python",
   "name": "python3"
  },
  "language_info": {
   "codemirror_mode": {
    "name": "ipython",
    "version": 3
   },
   "file_extension": ".py",
   "mimetype": "text/x-python",
   "name": "python",
   "nbconvert_exporter": "python",
   "pygments_lexer": "ipython3",
   "version": "3.8.8"
  }
 },
 "nbformat": 4,
 "nbformat_minor": 5
}
