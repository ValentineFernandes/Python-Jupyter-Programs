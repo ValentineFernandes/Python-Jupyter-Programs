{
 "cells": [
  {
   "cell_type": "code",
   "execution_count": 2,
   "id": "b0dd751a",
   "metadata": {},
   "outputs": [],
   "source": [
    "def list_names():\n",
    "    print('Michael')\n",
    "    print('Patricia')\n",
    "    print('Mike')\n",
    "    print('Mary')\n",
    "    print('Robert')"
   ]
  },
  {
   "cell_type": "code",
   "execution_count": 3,
   "id": "c16af037",
   "metadata": {},
   "outputs": [
    {
     "name": "stdout",
     "output_type": "stream",
     "text": [
      "Michael\n",
      "Patricia\n",
      "Mike\n",
      "Mary\n",
      "Robert\n"
     ]
    }
   ],
   "source": [
    "list_names()"
   ]
  },
  {
   "cell_type": "code",
   "execution_count": 4,
   "id": "240597f3",
   "metadata": {},
   "outputs": [],
   "source": [
    "def people(name, age):\n",
    "    print(f\"{name} is {age} years old.\")"
   ]
  },
  {
   "cell_type": "code",
   "execution_count": 5,
   "id": "bc28c88d",
   "metadata": {},
   "outputs": [
    {
     "name": "stdout",
     "output_type": "stream",
     "text": [
      "Michael is 38 years old.\n"
     ]
    }
   ],
   "source": [
    "people('Michael', 38)"
   ]
  },
  {
   "cell_type": "code",
   "execution_count": 6,
   "id": "56323fdc",
   "metadata": {},
   "outputs": [
    {
     "name": "stdout",
     "output_type": "stream",
     "text": [
      "Mike is 31 years old.\n"
     ]
    }
   ],
   "source": [
    "people('Mike',31)"
   ]
  },
  {
   "cell_type": "code",
   "execution_count": 7,
   "id": "005c8a4c",
   "metadata": {},
   "outputs": [],
   "source": [
    "def sum(value1, value2):\n",
    "    print(value1 + value2)"
   ]
  },
  {
   "cell_type": "code",
   "execution_count": 8,
   "id": "665ce044",
   "metadata": {},
   "outputs": [
    {
     "name": "stdout",
     "output_type": "stream",
     "text": [
      "910\n"
     ]
    }
   ],
   "source": [
    "printed_sum = sum('9','10')"
   ]
  },
  {
   "cell_type": "code",
   "execution_count": 9,
   "id": "ab37a46b",
   "metadata": {},
   "outputs": [],
   "source": [
    "printed_sum"
   ]
  },
  {
   "cell_type": "code",
   "execution_count": 10,
   "id": "3e736258",
   "metadata": {},
   "outputs": [
    {
     "data": {
      "text/plain": [
       "NoneType"
      ]
     },
     "execution_count": 10,
     "metadata": {},
     "output_type": "execute_result"
    }
   ],
   "source": [
    "type(printed_sum)"
   ]
  }
 ],
 "metadata": {
  "kernelspec": {
   "display_name": "Python 3",
   "language": "python",
   "name": "python3"
  },
  "language_info": {
   "codemirror_mode": {
    "name": "ipython",
    "version": 3
   },
   "file_extension": ".py",
   "mimetype": "text/x-python",
   "name": "python",
   "nbconvert_exporter": "python",
   "pygments_lexer": "ipython3",
   "version": "3.8.8"
  }
 },
 "nbformat": 4,
 "nbformat_minor": 5
}
