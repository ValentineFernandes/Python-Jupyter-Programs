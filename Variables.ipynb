{
 "cells": [
  {
   "cell_type": "code",
   "execution_count": 1,
   "id": "507567fe",
   "metadata": {},
   "outputs": [],
   "source": [
    "id_number = 706"
   ]
  },
  {
   "cell_type": "code",
   "execution_count": 2,
   "id": "e3ebecea",
   "metadata": {},
   "outputs": [],
   "source": [
    "id_number = \"seven zero six\""
   ]
  },
  {
   "cell_type": "code",
   "execution_count": 3,
   "id": "b5f97168",
   "metadata": {},
   "outputs": [],
   "source": [
    "example = 10"
   ]
  },
  {
   "cell_type": "code",
   "execution_count": 4,
   "id": "215f1fc6",
   "metadata": {},
   "outputs": [
    {
     "data": {
      "text/plain": [
       "10"
      ]
     },
     "execution_count": 4,
     "metadata": {},
     "output_type": "execute_result"
    }
   ],
   "source": [
    "example"
   ]
  },
  {
   "cell_type": "code",
   "execution_count": 5,
   "id": "d426d0d1",
   "metadata": {},
   "outputs": [],
   "source": [
    "example = 20"
   ]
  },
  {
   "cell_type": "code",
   "execution_count": 6,
   "id": "b076e517",
   "metadata": {},
   "outputs": [
    {
     "data": {
      "text/plain": [
       "20"
      ]
     },
     "execution_count": 6,
     "metadata": {},
     "output_type": "execute_result"
    }
   ],
   "source": [
    "example"
   ]
  },
  {
   "cell_type": "code",
   "execution_count": 7,
   "id": "04a323ca",
   "metadata": {},
   "outputs": [
    {
     "data": {
      "text/plain": [
       "40"
      ]
     },
     "execution_count": 7,
     "metadata": {},
     "output_type": "execute_result"
    }
   ],
   "source": [
    "example + example"
   ]
  },
  {
   "cell_type": "code",
   "execution_count": 8,
   "id": "b96c78db",
   "metadata": {},
   "outputs": [
    {
     "data": {
      "text/plain": [
       "20"
      ]
     },
     "execution_count": 8,
     "metadata": {},
     "output_type": "execute_result"
    }
   ],
   "source": [
    "example"
   ]
  },
  {
   "cell_type": "code",
   "execution_count": 13,
   "id": "dbaf70d9",
   "metadata": {},
   "outputs": [],
   "source": [
    "example = example + example"
   ]
  },
  {
   "cell_type": "code",
   "execution_count": 14,
   "id": "78df146d",
   "metadata": {},
   "outputs": [
    {
     "data": {
      "text/plain": [
       "160"
      ]
     },
     "execution_count": 14,
     "metadata": {},
     "output_type": "execute_result"
    }
   ],
   "source": [
    "example"
   ]
  },
  {
   "cell_type": "code",
   "execution_count": 15,
   "id": "0f886f49",
   "metadata": {},
   "outputs": [
    {
     "data": {
      "text/plain": [
       "int"
      ]
     },
     "execution_count": 15,
     "metadata": {},
     "output_type": "execute_result"
    }
   ],
   "source": [
    "type(example)"
   ]
  },
  {
   "cell_type": "code",
   "execution_count": 16,
   "id": "7b116b6e",
   "metadata": {},
   "outputs": [],
   "source": [
    "example = 6.8"
   ]
  },
  {
   "cell_type": "code",
   "execution_count": 17,
   "id": "82921034",
   "metadata": {},
   "outputs": [
    {
     "data": {
      "text/plain": [
       "float"
      ]
     },
     "execution_count": 17,
     "metadata": {},
     "output_type": "execute_result"
    }
   ],
   "source": [
    "type(example)"
   ]
  }
 ],
 "metadata": {
  "kernelspec": {
   "display_name": "Python 3",
   "language": "python",
   "name": "python3"
  },
  "language_info": {
   "codemirror_mode": {
    "name": "ipython",
    "version": 3
   },
   "file_extension": ".py",
   "mimetype": "text/x-python",
   "name": "python",
   "nbconvert_exporter": "python",
   "pygments_lexer": "ipython3",
   "version": "3.8.8"
  }
 },
 "nbformat": 4,
 "nbformat_minor": 5
}
