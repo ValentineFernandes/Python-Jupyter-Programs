{
 "cells": [
  {
   "cell_type": "code",
   "execution_count": 2,
   "id": "013255b4",
   "metadata": {},
   "outputs": [],
   "source": [
    "name = 'Jonathan'"
   ]
  },
  {
   "cell_type": "code",
   "execution_count": 3,
   "id": "cdce4bd6",
   "metadata": {},
   "outputs": [],
   "source": [
    "letters = []\n",
    "\n",
    "for element in name:\n",
    "    letters.append(element)"
   ]
  },
  {
   "cell_type": "code",
   "execution_count": 4,
   "id": "b91f1557",
   "metadata": {},
   "outputs": [
    {
     "data": {
      "text/plain": [
       "['J', 'o', 'n', 'a', 't', 'h', 'a', 'n']"
      ]
     },
     "execution_count": 4,
     "metadata": {},
     "output_type": "execute_result"
    }
   ],
   "source": [
    "letters"
   ]
  },
  {
   "cell_type": "code",
   "execution_count": 8,
   "id": "5f25e9e1",
   "metadata": {},
   "outputs": [],
   "source": [
    "letters = [element for element in name]"
   ]
  },
  {
   "cell_type": "code",
   "execution_count": 9,
   "id": "7552fa19",
   "metadata": {},
   "outputs": [
    {
     "data": {
      "text/plain": [
       "['J', 'o', 'n', 'a', 't', 'h', 'a', 'n']"
      ]
     },
     "execution_count": 9,
     "metadata": {},
     "output_type": "execute_result"
    }
   ],
   "source": [
    "letters"
   ]
  },
  {
   "cell_type": "code",
   "execution_count": 12,
   "id": "d4a0ad6e",
   "metadata": {},
   "outputs": [],
   "source": [
    "value_list = [numbers*2 for numbers in range(1,20)]"
   ]
  },
  {
   "cell_type": "code",
   "execution_count": 13,
   "id": "e012f46b",
   "metadata": {},
   "outputs": [
    {
     "data": {
      "text/plain": [
       "[2, 4, 6, 8, 10, 12, 14, 16, 18, 20, 22, 24, 26, 28, 30, 32, 34, 36, 38]"
      ]
     },
     "execution_count": 13,
     "metadata": {},
     "output_type": "execute_result"
    }
   ],
   "source": [
    "value_list"
   ]
  },
  {
   "cell_type": "code",
   "execution_count": 14,
   "id": "7152859f",
   "metadata": {},
   "outputs": [],
   "source": [
    "value_list = [numbers for numbers in range(1,20) if numbers%2==0]"
   ]
  },
  {
   "cell_type": "code",
   "execution_count": 15,
   "id": "6675883c",
   "metadata": {},
   "outputs": [
    {
     "data": {
      "text/plain": [
       "[2, 4, 6, 8, 10, 12, 14, 16, 18]"
      ]
     },
     "execution_count": 15,
     "metadata": {},
     "output_type": "execute_result"
    }
   ],
   "source": [
    "value_list"
   ]
  },
  {
   "cell_type": "code",
   "execution_count": 16,
   "id": "f5289dc8",
   "metadata": {},
   "outputs": [],
   "source": [
    "values = [number if number%2==0 else 'Odd number' for number in range(1,20)]"
   ]
  },
  {
   "cell_type": "code",
   "execution_count": 17,
   "id": "c2174982",
   "metadata": {},
   "outputs": [
    {
     "data": {
      "text/plain": [
       "['Odd number',\n",
       " 2,\n",
       " 'Odd number',\n",
       " 4,\n",
       " 'Odd number',\n",
       " 6,\n",
       " 'Odd number',\n",
       " 8,\n",
       " 'Odd number',\n",
       " 10,\n",
       " 'Odd number',\n",
       " 12,\n",
       " 'Odd number',\n",
       " 14,\n",
       " 'Odd number',\n",
       " 16,\n",
       " 'Odd number',\n",
       " 18,\n",
       " 'Odd number']"
      ]
     },
     "execution_count": 17,
     "metadata": {},
     "output_type": "execute_result"
    }
   ],
   "source": [
    "values"
   ]
  },
  {
   "cell_type": "code",
   "execution_count": 18,
   "id": "e462b7ff",
   "metadata": {},
   "outputs": [],
   "source": [
    "my_values = []\n",
    "\n",
    "for j in [2,3,4]:\n",
    "    for k in [1,10,100]:\n",
    "        my_values.append(j*k)"
   ]
  },
  {
   "cell_type": "code",
   "execution_count": 19,
   "id": "86d1721b",
   "metadata": {},
   "outputs": [
    {
     "data": {
      "text/plain": [
       "[2, 20, 200, 3, 30, 300, 4, 40, 400]"
      ]
     },
     "execution_count": 19,
     "metadata": {},
     "output_type": "execute_result"
    }
   ],
   "source": [
    "my_values"
   ]
  },
  {
   "cell_type": "code",
   "execution_count": 20,
   "id": "f37587bb",
   "metadata": {},
   "outputs": [],
   "source": [
    "my_values = [j*k for j in [2,3,4] for k in [1,10,100]]"
   ]
  },
  {
   "cell_type": "code",
   "execution_count": 21,
   "id": "c80bb6b9",
   "metadata": {},
   "outputs": [
    {
     "data": {
      "text/plain": [
       "[2, 20, 200, 3, 30, 300, 4, 40, 400]"
      ]
     },
     "execution_count": 21,
     "metadata": {},
     "output_type": "execute_result"
    }
   ],
   "source": [
    "my_values"
   ]
  }
 ],
 "metadata": {
  "kernelspec": {
   "display_name": "Python 3",
   "language": "python",
   "name": "python3"
  },
  "language_info": {
   "codemirror_mode": {
    "name": "ipython",
    "version": 3
   },
   "file_extension": ".py",
   "mimetype": "text/x-python",
   "name": "python",
   "nbconvert_exporter": "python",
   "pygments_lexer": "ipython3",
   "version": "3.8.8"
  }
 },
 "nbformat": 4,
 "nbformat_minor": 5
}
