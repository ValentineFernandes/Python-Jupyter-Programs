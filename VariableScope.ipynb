{
 "cells": [
  {
   "cell_type": "code",
   "execution_count": 1,
   "id": "c3935ab6",
   "metadata": {},
   "outputs": [],
   "source": [
    "dog = 'Milo'"
   ]
  },
  {
   "cell_type": "code",
   "execution_count": 2,
   "id": "d4593157",
   "metadata": {},
   "outputs": [],
   "source": [
    "def dog_name():\n",
    "    dog = 'Ozzy'\n",
    "    return dog"
   ]
  },
  {
   "cell_type": "code",
   "execution_count": 3,
   "id": "6739acb0",
   "metadata": {},
   "outputs": [
    {
     "name": "stdout",
     "output_type": "stream",
     "text": [
      "Milo\n"
     ]
    }
   ],
   "source": [
    "print(dog)"
   ]
  },
  {
   "cell_type": "code",
   "execution_count": 4,
   "id": "a42ddd96",
   "metadata": {},
   "outputs": [
    {
     "name": "stdout",
     "output_type": "stream",
     "text": [
      "Ozzy\n"
     ]
    }
   ],
   "source": [
    "print(dog_name())"
   ]
  },
  {
   "cell_type": "code",
   "execution_count": 5,
   "id": "b56cb5e4",
   "metadata": {},
   "outputs": [],
   "source": [
    "variable = 'Global Scope'\n",
    "\n",
    "def variable_scope():\n",
    "    # variable = 'Enclosing Scope'\n",
    "    def another_func():\n",
    "      # variable = 'Local Scope'\n",
    "        print('Variable scope is ' + variable)\n",
    "    another_func()"
   ]
  },
  {
   "cell_type": "code",
   "execution_count": 6,
   "id": "16b3a041",
   "metadata": {},
   "outputs": [
    {
     "name": "stdout",
     "output_type": "stream",
     "text": [
      "Variable scope is Global Scope\n"
     ]
    }
   ],
   "source": [
    "variable_scope()"
   ]
  },
  {
   "cell_type": "code",
   "execution_count": 7,
   "id": "dfeebcce",
   "metadata": {},
   "outputs": [],
   "source": [
    "cat = \"Luna\"\n",
    "\n",
    "def cat_name(cat):\n",
    "    #global cat #(without parameter)\n",
    "    print(f\"My cat's name is {cat}\")\n",
    "    cat = 'Chloe'\n",
    "    print (f'This is Local reassignment! Cat name is now {cat}')\n",
    "    #return cat"
   ]
  },
  {
   "cell_type": "code",
   "execution_count": 8,
   "id": "2d3f5cc3",
   "metadata": {},
   "outputs": [
    {
     "name": "stdout",
     "output_type": "stream",
     "text": [
      "My cat's name is Luna\n",
      "This is Local reassignment! Cat name is now Chloe\n"
     ]
    }
   ],
   "source": [
    "cat_name(cat)"
   ]
  },
  {
   "cell_type": "code",
   "execution_count": 9,
   "id": "e8b2f7c2",
   "metadata": {},
   "outputs": [
    {
     "name": "stdout",
     "output_type": "stream",
     "text": [
      "Luna\n"
     ]
    }
   ],
   "source": [
    "print(cat)"
   ]
  },
  {
   "cell_type": "code",
   "execution_count": 10,
   "id": "08c70e61",
   "metadata": {},
   "outputs": [
    {
     "name": "stdout",
     "output_type": "stream",
     "text": [
      "My cat's name is Luna\n",
      "This is Local reassignment! Cat name is now Chloe\n"
     ]
    }
   ],
   "source": [
    "cat = cat_name(cat)"
   ]
  }
 ],
 "metadata": {
  "kernelspec": {
   "display_name": "Python 3",
   "language": "python",
   "name": "python3"
  },
  "language_info": {
   "codemirror_mode": {
    "name": "ipython",
    "version": 3
   },
   "file_extension": ".py",
   "mimetype": "text/x-python",
   "name": "python",
   "nbconvert_exporter": "python",
   "pygments_lexer": "ipython3",
   "version": "3.8.8"
  }
 },
 "nbformat": 4,
 "nbformat_minor": 5
}
